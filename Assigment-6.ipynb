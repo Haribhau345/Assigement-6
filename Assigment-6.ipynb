{
 "cells": [
  {
   "cell_type": "code",
   "execution_count": null,
   "id": "307163f2",
   "metadata": {},
   "outputs": [],
   "source": [
    "#1.Escape characters are special characters that allow you to include characters in a string that would otherwise be \n",
    "difficult or impossible to include.use an escape character by adding a backslash () before the character you want to escape. \n",
    "For example, you could use the escape character ' to include a single quote in a string enclosed in single quotes."
   ]
  },
  {
   "cell_type": "code",
   "execution_count": null,
   "id": "80a74f51",
   "metadata": {},
   "outputs": [],
   "source": [
    "#2. What do the escape characters n and t stand for?\n",
    " # n stands for a newline and \\t stands for a tab."
   ]
  },
  {
   "cell_type": "code",
   "execution_count": null,
   "id": "8e798f1a",
   "metadata": {},
   "outputs": [],
   "source": [
    "#3. What is the way to include backslash characters in a string?\n",
    "#To include a backslash character in a string, we can use the escape character \\."
   ]
  },
  {
   "cell_type": "code",
   "execution_count": null,
   "id": "cf3babe5",
   "metadata": {},
   "outputs": [],
   "source": [
    "#4.The single quote character in the word Howl's is not a problem because the string is enclosed in double quotes. \n",
    "#We can use either single or double quotes to enclose a string in Python, \n",
    "#and any quotes that appear within the string will not be treated as the end of the string\n",
    "#as long as they match the enclosing quotes."
   ]
  },
  {
   "cell_type": "code",
   "execution_count": null,
   "id": "6e1c3857",
   "metadata": {},
   "outputs": [],
   "source": [
    "#5. How do you write a string of newlines if you don&#39;t want to use the n character?\n",
    "#We can write a string of newlines by using multiple print statements, like this:\n",
    "#print()\n",
    "#print()."
   ]
  },
  {
   "cell_type": "code",
   "execution_count": null,
   "id": "a7236a68",
   "metadata": {},
   "outputs": [],
   "source": [
    "#6.The values of the given expressions are:\n",
    "\n",
    "'e'\n",
    "'Hello'\n",
    "'Hello'\n",
    "'lo, world!'"
   ]
  },
  {
   "cell_type": "code",
   "execution_count": null,
   "id": "8e2c4ba3",
   "metadata": {},
   "outputs": [],
   "source": [
    "#7.The values of the following expressions are:\n",
    "'HELLO'\n",
    "True\n",
    "'hello'"
   ]
  },
  {
   "cell_type": "code",
   "execution_count": 1,
   "id": "0e845dcc",
   "metadata": {},
   "outputs": [
    {
     "data": {
      "text/plain": [
       "'HELLO'"
      ]
     },
     "execution_count": 1,
     "metadata": {},
     "output_type": "execute_result"
    }
   ],
   "source": [
    "'Hello'.upper()"
   ]
  },
  {
   "cell_type": "code",
   "execution_count": 2,
   "id": "3613f552",
   "metadata": {},
   "outputs": [
    {
     "data": {
      "text/plain": [
       "True"
      ]
     },
     "execution_count": 2,
     "metadata": {},
     "output_type": "execute_result"
    }
   ],
   "source": [
    "'Hello'.upper().isupper()"
   ]
  },
  {
   "cell_type": "code",
   "execution_count": 3,
   "id": "c5d7a02d",
   "metadata": {},
   "outputs": [
    {
     "data": {
      "text/plain": [
       "'hello'"
      ]
     },
     "execution_count": 3,
     "metadata": {},
     "output_type": "execute_result"
    }
   ],
   "source": [
    "'Hello'.upper().lower()"
   ]
  },
  {
   "cell_type": "code",
   "execution_count": null,
   "id": "a2739b95",
   "metadata": {},
   "outputs": [],
   "source": [
    "#The methods for right-justifying, left-justifying, and centering a string are:\n",
    "#Right-justifying: rjust()\n",
    "#Left-justifying: ljust()\n",
    "#Centering: center()\n",
    "#Each method takes an integer argument specifying the width of the resulting string."
   ]
  },
  {
   "cell_type": "code",
   "execution_count": null,
   "id": "5265d397",
   "metadata": {},
   "outputs": [],
   "source": [
    "#10.For remove whitespace characters from the start or end, we can use the lstrip() or rstrip() methods,respectively"
   ]
  }
 ],
 "metadata": {
  "kernelspec": {
   "display_name": "Python 3 (ipykernel)",
   "language": "python",
   "name": "python3"
  },
  "language_info": {
   "codemirror_mode": {
    "name": "ipython",
    "version": 3
   },
   "file_extension": ".py",
   "mimetype": "text/x-python",
   "name": "python",
   "nbconvert_exporter": "python",
   "pygments_lexer": "ipython3",
   "version": "3.9.13"
  }
 },
 "nbformat": 4,
 "nbformat_minor": 5
}
